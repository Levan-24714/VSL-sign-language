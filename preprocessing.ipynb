{
  "nbformat": 4,
  "nbformat_minor": 0,
  "metadata": {
    "colab": {
      "provenance": [],
      "gpuType": "T4"
    },
    "kernelspec": {
      "name": "python3",
      "display_name": "Python 3"
    },
    "language_info": {
      "name": "python"
    },
    "accelerator": "GPU"
  },
  "cells": [
    {
      "cell_type": "code",
      "execution_count": null,
      "metadata": {
        "colab": {
          "base_uri": "https://localhost:8080/"
        },
        "id": "Th2UayOYLZ2M",
        "outputId": "4f9f9338-e5d3-45e9-ef1c-054ac10195e9"
      },
      "outputs": [
        {
          "output_type": "stream",
          "name": "stdout",
          "text": [
            "Drive already mounted at /content/drive; to attempt to forcibly remount, call drive.mount(\"/content/drive\", force_remount=True).\n"
          ]
        }
      ],
      "source": [
        "from google.colab import drive\n",
        "drive.mount('/content/drive')\n",
        "\n"
      ]
    },
    {
      "cell_type": "code",
      "source": [
        "!pip install --upgrade numpy mediapipe opencv-python-headless tensorflow pillow tqdm\n"
      ],
      "metadata": {
        "colab": {
          "base_uri": "https://localhost:8080/"
        },
        "id": "cV4bs4lrcJg0",
        "outputId": "927065a9-6836-45b2-eca1-9f3f977b94d6"
      },
      "execution_count": null,
      "outputs": [
        {
          "output_type": "stream",
          "name": "stdout",
          "text": [
            "Requirement already satisfied: numpy in /usr/local/lib/python3.12/dist-packages (1.26.4)\n",
            "Collecting numpy\n",
            "  Using cached numpy-2.3.2-cp312-cp312-manylinux_2_27_x86_64.manylinux_2_28_x86_64.whl.metadata (62 kB)\n",
            "Requirement already satisfied: mediapipe in /usr/local/lib/python3.12/dist-packages (0.10.21)\n",
            "Requirement already satisfied: opencv-python-headless in /usr/local/lib/python3.12/dist-packages (4.11.0.86)\n",
            "Collecting opencv-python-headless\n",
            "  Using cached opencv_python_headless-4.12.0.88-cp37-abi3-manylinux2014_x86_64.manylinux_2_17_x86_64.whl.metadata (19 kB)\n",
            "Requirement already satisfied: tensorflow in /usr/local/lib/python3.12/dist-packages (2.19.1)\n",
            "Collecting tensorflow\n",
            "  Using cached tensorflow-2.20.0-cp312-cp312-manylinux_2_17_x86_64.manylinux2014_x86_64.whl.metadata (4.5 kB)\n",
            "Requirement already satisfied: pillow in /usr/local/lib/python3.12/dist-packages (11.3.0)\n",
            "Requirement already satisfied: tqdm in /usr/local/lib/python3.12/dist-packages (4.67.1)\n",
            "Requirement already satisfied: absl-py in /usr/local/lib/python3.12/dist-packages (from mediapipe) (1.4.0)\n",
            "Requirement already satisfied: attrs>=19.1.0 in /usr/local/lib/python3.12/dist-packages (from mediapipe) (25.3.0)\n",
            "Requirement already satisfied: flatbuffers>=2.0 in /usr/local/lib/python3.12/dist-packages (from mediapipe) (25.2.10)\n",
            "Requirement already satisfied: jax in /usr/local/lib/python3.12/dist-packages (from mediapipe) (0.5.3)\n",
            "Requirement already satisfied: jaxlib in /usr/local/lib/python3.12/dist-packages (from mediapipe) (0.5.3)\n",
            "Requirement already satisfied: matplotlib in /usr/local/lib/python3.12/dist-packages (from mediapipe) (3.10.0)\n",
            "Requirement already satisfied: opencv-contrib-python in /usr/local/lib/python3.12/dist-packages (from mediapipe) (4.11.0.86)\n",
            "Requirement already satisfied: protobuf<5,>=4.25.3 in /usr/local/lib/python3.12/dist-packages (from mediapipe) (4.25.8)\n",
            "Requirement already satisfied: sounddevice>=0.4.4 in /usr/local/lib/python3.12/dist-packages (from mediapipe) (0.5.2)\n",
            "Requirement already satisfied: sentencepiece in /usr/local/lib/python3.12/dist-packages (from mediapipe) (0.2.1)\n",
            "INFO: pip is looking at multiple versions of opencv-python-headless to determine which version is compatible with other requirements. This could take a while.\n",
            "Requirement already satisfied: astunparse>=1.6.0 in /usr/local/lib/python3.12/dist-packages (from tensorflow) (1.6.3)\n",
            "Requirement already satisfied: gast!=0.5.0,!=0.5.1,!=0.5.2,>=0.2.1 in /usr/local/lib/python3.12/dist-packages (from tensorflow) (0.6.0)\n",
            "Requirement already satisfied: google_pasta>=0.1.1 in /usr/local/lib/python3.12/dist-packages (from tensorflow) (0.2.0)\n",
            "Requirement already satisfied: libclang>=13.0.0 in /usr/local/lib/python3.12/dist-packages (from tensorflow) (18.1.1)\n",
            "Requirement already satisfied: opt_einsum>=2.3.2 in /usr/local/lib/python3.12/dist-packages (from tensorflow) (3.4.0)\n",
            "Requirement already satisfied: packaging in /usr/local/lib/python3.12/dist-packages (from tensorflow) (25.0)\n",
            "INFO: pip is looking at multiple versions of tensorflow to determine which version is compatible with other requirements. This could take a while.\n",
            "Requirement already satisfied: requests<3,>=2.21.0 in /usr/local/lib/python3.12/dist-packages (from tensorflow) (2.32.4)\n",
            "Requirement already satisfied: setuptools in /usr/local/lib/python3.12/dist-packages (from tensorflow) (75.2.0)\n",
            "Requirement already satisfied: six>=1.12.0 in /usr/local/lib/python3.12/dist-packages (from tensorflow) (1.17.0)\n",
            "Requirement already satisfied: termcolor>=1.1.0 in /usr/local/lib/python3.12/dist-packages (from tensorflow) (3.1.0)\n",
            "Requirement already satisfied: typing-extensions>=3.6.6 in /usr/local/lib/python3.12/dist-packages (from tensorflow) (4.15.0)\n",
            "Requirement already satisfied: wrapt>=1.11.0 in /usr/local/lib/python3.12/dist-packages (from tensorflow) (1.17.3)\n",
            "Requirement already satisfied: grpcio<2.0,>=1.24.3 in /usr/local/lib/python3.12/dist-packages (from tensorflow) (1.74.0)\n",
            "Requirement already satisfied: tensorboard~=2.19.0 in /usr/local/lib/python3.12/dist-packages (from tensorflow) (2.19.0)\n",
            "Requirement already satisfied: keras>=3.5.0 in /usr/local/lib/python3.12/dist-packages (from tensorflow) (3.10.0)\n",
            "Requirement already satisfied: h5py>=3.11.0 in /usr/local/lib/python3.12/dist-packages (from tensorflow) (3.14.0)\n",
            "Requirement already satisfied: ml-dtypes<1.0.0,>=0.5.1 in /usr/local/lib/python3.12/dist-packages (from tensorflow) (0.5.3)\n",
            "Requirement already satisfied: wheel<1.0,>=0.23.0 in /usr/local/lib/python3.12/dist-packages (from astunparse>=1.6.0->tensorflow) (0.45.1)\n",
            "Requirement already satisfied: rich in /usr/local/lib/python3.12/dist-packages (from keras>=3.5.0->tensorflow) (13.9.4)\n",
            "Requirement already satisfied: namex in /usr/local/lib/python3.12/dist-packages (from keras>=3.5.0->tensorflow) (0.1.0)\n",
            "Requirement already satisfied: optree in /usr/local/lib/python3.12/dist-packages (from keras>=3.5.0->tensorflow) (0.17.0)\n",
            "Requirement already satisfied: charset_normalizer<4,>=2 in /usr/local/lib/python3.12/dist-packages (from requests<3,>=2.21.0->tensorflow) (3.4.3)\n",
            "Requirement already satisfied: idna<4,>=2.5 in /usr/local/lib/python3.12/dist-packages (from requests<3,>=2.21.0->tensorflow) (3.10)\n",
            "Requirement already satisfied: urllib3<3,>=1.21.1 in /usr/local/lib/python3.12/dist-packages (from requests<3,>=2.21.0->tensorflow) (2.5.0)\n",
            "Requirement already satisfied: certifi>=2017.4.17 in /usr/local/lib/python3.12/dist-packages (from requests<3,>=2.21.0->tensorflow) (2025.8.3)\n",
            "Requirement already satisfied: CFFI>=1.0 in /usr/local/lib/python3.12/dist-packages (from sounddevice>=0.4.4->mediapipe) (1.17.1)\n",
            "Requirement already satisfied: markdown>=2.6.8 in /usr/local/lib/python3.12/dist-packages (from tensorboard~=2.19.0->tensorflow) (3.8.2)\n",
            "Requirement already satisfied: tensorboard-data-server<0.8.0,>=0.7.0 in /usr/local/lib/python3.12/dist-packages (from tensorboard~=2.19.0->tensorflow) (0.7.2)\n",
            "Requirement already satisfied: werkzeug>=1.0.1 in /usr/local/lib/python3.12/dist-packages (from tensorboard~=2.19.0->tensorflow) (3.1.3)\n",
            "Requirement already satisfied: scipy>=1.11.1 in /usr/local/lib/python3.12/dist-packages (from jax->mediapipe) (1.16.1)\n",
            "Requirement already satisfied: contourpy>=1.0.1 in /usr/local/lib/python3.12/dist-packages (from matplotlib->mediapipe) (1.3.3)\n",
            "Requirement already satisfied: cycler>=0.10 in /usr/local/lib/python3.12/dist-packages (from matplotlib->mediapipe) (0.12.1)\n",
            "Requirement already satisfied: fonttools>=4.22.0 in /usr/local/lib/python3.12/dist-packages (from matplotlib->mediapipe) (4.59.2)\n",
            "Requirement already satisfied: kiwisolver>=1.3.1 in /usr/local/lib/python3.12/dist-packages (from matplotlib->mediapipe) (1.4.9)\n",
            "Requirement already satisfied: pyparsing>=2.3.1 in /usr/local/lib/python3.12/dist-packages (from matplotlib->mediapipe) (3.2.3)\n",
            "Requirement already satisfied: python-dateutil>=2.7 in /usr/local/lib/python3.12/dist-packages (from matplotlib->mediapipe) (2.9.0.post0)\n",
            "Requirement already satisfied: pycparser in /usr/local/lib/python3.12/dist-packages (from CFFI>=1.0->sounddevice>=0.4.4->mediapipe) (2.22)\n",
            "Requirement already satisfied: MarkupSafe>=2.1.1 in /usr/local/lib/python3.12/dist-packages (from werkzeug>=1.0.1->tensorboard~=2.19.0->tensorflow) (3.0.2)\n",
            "Requirement already satisfied: markdown-it-py>=2.2.0 in /usr/local/lib/python3.12/dist-packages (from rich->keras>=3.5.0->tensorflow) (4.0.0)\n",
            "Requirement already satisfied: pygments<3.0.0,>=2.13.0 in /usr/local/lib/python3.12/dist-packages (from rich->keras>=3.5.0->tensorflow) (2.19.2)\n",
            "Requirement already satisfied: mdurl~=0.1 in /usr/local/lib/python3.12/dist-packages (from markdown-it-py>=2.2.0->rich->keras>=3.5.0->tensorflow) (0.1.2)\n"
          ]
        }
      ]
    },
    {
      "cell_type": "code",
      "source": [
        "import os\n",
        "import random\n",
        "import shutil\n",
        "\n",
        "input_dir = \"/content/drive/MyDrive/DATASET_VSL/Frames_2_no_heic\"\n",
        "output_dir = \"/content/drive/MyDrive/DATASET_VSL/sample_600\"\n",
        "num_samples = 600\n",
        "\n",
        "#tạo thư mục ouput nếu chưa có\n",
        "os.makedirs(output_dir, exist_ok = True)\n",
        "\n",
        "\n",
        "# Duyệt từng chữ cái\n",
        "for letter in sorted(os.listdir(input_dir)):\n",
        "    letter_path = os.path.join(input_dir, letter)\n",
        "    if not os.path.isdir(letter_path):\n",
        "        continue\n",
        "    # Lấy tất cả ảnh trong các thư mục con\n",
        "    all_images = []\n",
        "    for subfolder in os.listdir(letter_path):\n",
        "        sub_path = os.path.join(letter_path, subfolder)\n",
        "        if os.path.isdir(sub_path):\n",
        "            for file in os.listdir(sub_path):\n",
        "                if file.lower().endswith(('.jpg', '.jpeg', '.png')):\n",
        "                    all_images.append(os.path.join(sub_path, file))\n",
        "\n",
        "    print(f'{letter}: tìm thấy {len(all_images)} ảnh')\n",
        "\n",
        "    # Chọn ngẫu nhiên 100 ảnh\n",
        "    if len(all_images) <= num_samples:\n",
        "        selected = all_images\n",
        "    else:\n",
        "        selected = random.sample(all_images, num_samples)\n",
        "\n",
        "    # Tạo thư mục chữ cái trong output\n",
        "    save_path = os.path.join(output_dir, letter)\n",
        "    os.makedirs(save_path, exist_ok=True)\n",
        "    # Copy ảnh\n",
        "    for i, img_path in enumerate(selected, start=1):\n",
        "        ext = os.path.splitext(img_path)[1]\n",
        "        new_name = f\"{letter}_{i:04d}{ext}\"\n",
        "        shutil.copy(img_path, os.path.join(save_path, new_name))\n",
        "\n",
        "print(\"Hoàn tất! Dataset đã lưu tại:\", output_dir)"
      ],
      "metadata": {
        "colab": {
          "base_uri": "https://localhost:8080/"
        },
        "id": "WabymgOOsKXr",
        "outputId": "7e0b8194-4e3d-4f01-d240-e4cc6faf4dc9"
      },
      "execution_count": null,
      "outputs": [
        {
          "output_type": "stream",
          "name": "stdout",
          "text": [
            "A: tìm thấy 1367 ảnh\n",
            "B: tìm thấy 902 ảnh\n",
            "C: tìm thấy 809 ảnh\n",
            "D: tìm thấy 558 ảnh\n",
            "E: tìm thấy 1015 ảnh\n",
            "G: tìm thấy 834 ảnh\n",
            "H: tìm thấy 855 ảnh\n",
            "I: tìm thấy 668 ảnh\n",
            "K: tìm thấy 589 ảnh\n",
            "L: tìm thấy 1011 ảnh\n",
            "M: tìm thấy 627 ảnh\n",
            "N: tìm thấy 719 ảnh\n",
            "O: tìm thấy 646 ảnh\n",
            "P: tìm thấy 905 ảnh\n",
            "Q: tìm thấy 617 ảnh\n",
            "R: tìm thấy 591 ảnh\n",
            "S: tìm thấy 672 ảnh\n",
            "T: tìm thấy 595 ảnh\n",
            "U: tìm thấy 710 ảnh\n",
            "V: tìm thấy 651 ảnh\n",
            "X: tìm thấy 653 ảnh\n",
            "Y: tìm thấy 730 ảnh\n",
            "Đ: tìm thấy 945 ảnh\n",
            "Hoàn tất! Dataset đã lưu tại: /content/drive/MyDrive/DATASET_VSL/sample_600\n"
          ]
        }
      ]
    },
    {
      "cell_type": "code",
      "source": [
        "# ==== CÀI ĐẶT: lần đầu cần !pip install mediapipe opencv-python ====\n",
        "# !pip -q install mediapipe opencv-python\n",
        "\n",
        "import os\n",
        "import math\n",
        "import numpy as np\n",
        "from PIL import Image, ImageOps\n",
        "from tqdm import tqdm\n",
        "import mediapipe as mp\n",
        "\n",
        "# ====== CẤU HÌNH ======\n",
        "src_root = \"/content/drive/MyDrive/DATASET_VSL/sample_600\"        # input: 100 ảnh/nhãn\n",
        "dst_root = \"/content/drive/MyDrive/DATASET_VSL/600_resize\"  # output\n",
        "target_size = 500                     # ảnh đích 500x500\n",
        "bbox_margin_ratio = 0.20              # thêm biên an toàn 20% quanh bàn tay\n",
        "valid_exts = {\".jpg\", \".jpeg\", \".png\", \".bmp\", \".webp\"}\n",
        "\n",
        "os.makedirs(dst_root, exist_ok=True)\n",
        "\n",
        "mp_hands = mp.solutions.hands\n",
        "hands = mp_hands.Hands(static_image_mode=True,\n",
        "                       max_num_hands=1,\n",
        "                       min_detection_confidence=0.5)\n",
        "\n",
        "def detect_hand_bbox(img_pil: Image.Image):\n",
        "    \"\"\"Trả về (x_min, y_min, x_max, y_max) theo pixel nếu thấy tay; ngược lại None.\"\"\"\n",
        "    img = ImageOps.exif_transpose(img_pil).convert(\"RGB\")\n",
        "    w, h = img.size\n",
        "    img_np = np.array(img)  # RGB\n",
        "    results = hands.process(img_np)\n",
        "\n",
        "    if not results.multi_hand_landmarks:\n",
        "        return None\n",
        "\n",
        "    # gộp tất cả điểm mốc tay\n",
        "    xs, ys = [], []\n",
        "    for lm in results.multi_hand_landmarks[0].landmark:\n",
        "        xs.append(lm.x * w)\n",
        "        ys.append(lm.y * h)\n",
        "\n",
        "    x_min, x_max = float(np.min(xs)), float(np.max(xs))\n",
        "    y_min, y_max = float(np.min(ys)), float(np.max(ys))\n",
        "    return x_min, y_min, x_max, y_max\n",
        "\n",
        "def square_crop_around_bbox(w, h, bbox, margin_ratio=0.2):\n",
        "    \"\"\"Tạo crop vuông bao trọn bbox + margin, không vượt khỏi ảnh.\"\"\"\n",
        "    if bbox is None:\n",
        "        # fallback: crop vuông ở giữa (không méo)\n",
        "        side = min(w, h)\n",
        "        left = (w - side) // 2\n",
        "        top = (h - side) // 2\n",
        "        return int(left), int(top), int(left + side), int(top + side)\n",
        "\n",
        "    x0, y0, x1, y1 = bbox\n",
        "    bw, bh = x1 - x0, y1 - y0\n",
        "    # thêm biên an toàn\n",
        "    cx, cy = (x0 + x1) / 2.0, (y0 + y1) / 2.0\n",
        "    side = max(bw, bh)\n",
        "    side = side * (1.0 + margin_ratio * 2.0)  # margin hai phía\n",
        "\n",
        "    # đảm bảo cạnh không nhỏ hơn 1\n",
        "    side = max(1.0, side)\n",
        "\n",
        "    # khung vuông ban đầu\n",
        "    left = cx - side / 2.0\n",
        "    top = cy - side / 2.0\n",
        "    right = cx + side / 2.0\n",
        "    bottom = cy + side / 2.0\n",
        "\n",
        "    # nếu vượt biên, tịnh tiến để khung nằm gọn trong ảnh\n",
        "    if left < 0:\n",
        "        right -= left\n",
        "        left = 0\n",
        "    if top < 0:\n",
        "        bottom -= top\n",
        "        top = 0\n",
        "    if right > w:\n",
        "        left -= (right - w)\n",
        "        right = w\n",
        "    if bottom > h:\n",
        "        top -= (bottom - h)\n",
        "        bottom = h\n",
        "\n",
        "    # sau khi clamp, có thể bị không vuông do bị cấn biên -> làm vuông lần nữa\n",
        "    side_final = min(right - left, bottom - top, w, h)\n",
        "    # giữ trung tâm gần cx,cy nhưng vẫn nằm trong ảnh\n",
        "    left = max(0, min(w - side_final, cx - side_final / 2.0))\n",
        "    top = max(0, min(h - side_final, cy - side_final / 2.0))\n",
        "    right = left + side_final\n",
        "    bottom = top + side_final\n",
        "\n",
        "    # ép kiểu int pixel\n",
        "    return int(round(left)), int(round(top)), int(round(right)), int(round(bottom))\n",
        "\n",
        "def process_image(path_in, path_out):\n",
        "    with Image.open(path_in) as im:\n",
        "        im = ImageOps.exif_transpose(im).convert(\"RGB\")\n",
        "        w, h = im.size\n",
        "        bbox = detect_hand_bbox(im)  # None nếu không thấy tay\n",
        "        crop_box = square_crop_around_bbox(w, h, bbox, margin_ratio=bbox_margin_ratio)\n",
        "        cropped = im.crop(crop_box)  # không viền, chỉ cắt\n",
        "        out = cropped.resize((target_size, target_size), Image.Resampling.LANCZOS)\n",
        "        out.save(path_out, quality=95)\n",
        "\n",
        "# ====== CHẠY QUA TỪNG NHÃN ======\n",
        "for label in sorted(os.listdir(src_root)):\n",
        "    src_label_dir = os.path.join(src_root, label)\n",
        "    if not os.path.isdir(src_label_dir):\n",
        "        continue\n",
        "    dst_label_dir = os.path.join(dst_root, label)\n",
        "    os.makedirs(dst_label_dir, exist_ok=True)\n",
        "\n",
        "    files = [f for f in os.listdir(src_label_dir)\n",
        "             if os.path.splitext(f)[1].lower() in valid_exts]\n",
        "\n",
        "    print(f\"Xử lý {label}: {len(files)} ảnh\")\n",
        "    for fname in tqdm(files):\n",
        "        src_path = os.path.join(src_label_dir, fname)\n",
        "        dst_path = os.path.join(dst_label_dir, fname)\n",
        "        try:\n",
        "            process_image(src_path, dst_path)\n",
        "        except Exception as e:\n",
        "            print(f\"  [BỎ QUA] {src_path}: {e}\")\n",
        "\n",
        "print(\" Hoàn tất! Ảnh 500x500  đã lưu tại:\", dst_root)\n"
      ],
      "metadata": {
        "colab": {
          "base_uri": "https://localhost:8080/"
        },
        "id": "DNYuFdKYwADQ",
        "outputId": "5694cde0-da36-43b7-c0ba-7276c5b33c3d"
      },
      "execution_count": null,
      "outputs": [
        {
          "output_type": "stream",
          "name": "stdout",
          "text": [
            "Xử lý A: 600 ảnh\n"
          ]
        },
        {
          "output_type": "stream",
          "name": "stderr",
          "text": [
            "100%|██████████| 600/600 [00:48<00:00, 12.29it/s]\n"
          ]
        },
        {
          "output_type": "stream",
          "name": "stdout",
          "text": [
            "Xử lý B: 600 ảnh\n"
          ]
        },
        {
          "output_type": "stream",
          "name": "stderr",
          "text": [
            "100%|██████████| 600/600 [00:50<00:00, 11.90it/s]\n"
          ]
        },
        {
          "output_type": "stream",
          "name": "stdout",
          "text": [
            "Xử lý C: 600 ảnh\n"
          ]
        },
        {
          "output_type": "stream",
          "name": "stderr",
          "text": [
            "100%|██████████| 600/600 [00:49<00:00, 12.08it/s]\n"
          ]
        },
        {
          "output_type": "stream",
          "name": "stdout",
          "text": [
            "Xử lý D: 558 ảnh\n"
          ]
        },
        {
          "output_type": "stream",
          "name": "stderr",
          "text": [
            "100%|██████████| 558/558 [00:45<00:00, 12.34it/s]\n"
          ]
        },
        {
          "output_type": "stream",
          "name": "stdout",
          "text": [
            "Xử lý E: 600 ảnh\n"
          ]
        },
        {
          "output_type": "stream",
          "name": "stderr",
          "text": [
            "100%|██████████| 600/600 [00:47<00:00, 12.73it/s]\n"
          ]
        },
        {
          "output_type": "stream",
          "name": "stdout",
          "text": [
            "Xử lý G: 600 ảnh\n"
          ]
        },
        {
          "output_type": "stream",
          "name": "stderr",
          "text": [
            "100%|██████████| 600/600 [00:48<00:00, 12.48it/s]\n"
          ]
        },
        {
          "output_type": "stream",
          "name": "stdout",
          "text": [
            "Xử lý H: 600 ảnh\n"
          ]
        },
        {
          "output_type": "stream",
          "name": "stderr",
          "text": [
            "100%|██████████| 600/600 [00:46<00:00, 12.77it/s]\n"
          ]
        },
        {
          "output_type": "stream",
          "name": "stdout",
          "text": [
            "Xử lý I: 600 ảnh\n"
          ]
        },
        {
          "output_type": "stream",
          "name": "stderr",
          "text": [
            "100%|██████████| 600/600 [00:46<00:00, 12.93it/s]\n"
          ]
        },
        {
          "output_type": "stream",
          "name": "stdout",
          "text": [
            "Xử lý K: 589 ảnh\n"
          ]
        },
        {
          "output_type": "stream",
          "name": "stderr",
          "text": [
            "100%|██████████| 589/589 [00:46<00:00, 12.68it/s]\n"
          ]
        },
        {
          "output_type": "stream",
          "name": "stdout",
          "text": [
            "Xử lý L: 600 ảnh\n"
          ]
        },
        {
          "output_type": "stream",
          "name": "stderr",
          "text": [
            "100%|██████████| 600/600 [00:51<00:00, 11.72it/s]\n"
          ]
        },
        {
          "output_type": "stream",
          "name": "stdout",
          "text": [
            "Xử lý M: 600 ảnh\n"
          ]
        },
        {
          "output_type": "stream",
          "name": "stderr",
          "text": [
            "100%|██████████| 600/600 [00:46<00:00, 12.97it/s]\n"
          ]
        },
        {
          "output_type": "stream",
          "name": "stdout",
          "text": [
            "Xử lý N: 600 ảnh\n"
          ]
        },
        {
          "output_type": "stream",
          "name": "stderr",
          "text": [
            "100%|██████████| 600/600 [00:49<00:00, 12.08it/s]\n"
          ]
        },
        {
          "output_type": "stream",
          "name": "stdout",
          "text": [
            "Xử lý O: 600 ảnh\n"
          ]
        },
        {
          "output_type": "stream",
          "name": "stderr",
          "text": [
            "100%|██████████| 600/600 [00:48<00:00, 12.30it/s]\n"
          ]
        },
        {
          "output_type": "stream",
          "name": "stdout",
          "text": [
            "Xử lý P: 600 ảnh\n"
          ]
        },
        {
          "output_type": "stream",
          "name": "stderr",
          "text": [
            "100%|██████████| 600/600 [00:49<00:00, 12.24it/s]\n"
          ]
        },
        {
          "output_type": "stream",
          "name": "stdout",
          "text": [
            "Xử lý Q: 600 ảnh\n"
          ]
        },
        {
          "output_type": "stream",
          "name": "stderr",
          "text": [
            "100%|██████████| 600/600 [00:49<00:00, 12.19it/s]\n"
          ]
        },
        {
          "output_type": "stream",
          "name": "stdout",
          "text": [
            "Xử lý R: 591 ảnh\n"
          ]
        },
        {
          "output_type": "stream",
          "name": "stderr",
          "text": [
            "100%|██████████| 591/591 [00:47<00:00, 12.35it/s]\n"
          ]
        },
        {
          "output_type": "stream",
          "name": "stdout",
          "text": [
            "Xử lý S: 600 ảnh\n"
          ]
        },
        {
          "output_type": "stream",
          "name": "stderr",
          "text": [
            "100%|██████████| 600/600 [00:49<00:00, 12.17it/s]\n"
          ]
        },
        {
          "output_type": "stream",
          "name": "stdout",
          "text": [
            "Xử lý T: 595 ảnh\n"
          ]
        },
        {
          "output_type": "stream",
          "name": "stderr",
          "text": [
            "100%|██████████| 595/595 [00:49<00:00, 11.92it/s]\n"
          ]
        },
        {
          "output_type": "stream",
          "name": "stdout",
          "text": [
            "Xử lý U: 600 ảnh\n"
          ]
        },
        {
          "output_type": "stream",
          "name": "stderr",
          "text": [
            "100%|██████████| 600/600 [00:49<00:00, 12.13it/s]\n"
          ]
        },
        {
          "output_type": "stream",
          "name": "stdout",
          "text": [
            "Xử lý V: 600 ảnh\n"
          ]
        },
        {
          "output_type": "stream",
          "name": "stderr",
          "text": [
            "100%|██████████| 600/600 [00:49<00:00, 12.16it/s]\n"
          ]
        },
        {
          "output_type": "stream",
          "name": "stdout",
          "text": [
            "Xử lý X: 600 ảnh\n"
          ]
        },
        {
          "output_type": "stream",
          "name": "stderr",
          "text": [
            "100%|██████████| 600/600 [00:46<00:00, 12.78it/s]\n"
          ]
        },
        {
          "output_type": "stream",
          "name": "stdout",
          "text": [
            "Xử lý Y: 600 ảnh\n"
          ]
        },
        {
          "output_type": "stream",
          "name": "stderr",
          "text": [
            "100%|██████████| 600/600 [00:48<00:00, 12.28it/s]\n"
          ]
        },
        {
          "output_type": "stream",
          "name": "stdout",
          "text": [
            "Xử lý Đ: 600 ảnh\n"
          ]
        },
        {
          "output_type": "stream",
          "name": "stderr",
          "text": [
            "100%|██████████| 600/600 [00:47<00:00, 12.65it/s]"
          ]
        },
        {
          "output_type": "stream",
          "name": "stdout",
          "text": [
            " Hoàn tất! Ảnh 500x500  đã lưu tại: /content/drive/MyDrive/DATASET_VSL/600_resize\n"
          ]
        },
        {
          "output_type": "stream",
          "name": "stderr",
          "text": [
            "\n"
          ]
        }
      ]
    },
    {
      "cell_type": "code",
      "source": [
        "# import os\n",
        "# import shutil\n",
        "# import numpy as np\n",
        "# import cv2\n",
        "# import mediapipe as mp\n",
        "# import csv\n",
        "# from PIL import Image, ImageOps\n",
        "# from tqdm import tqdm\n",
        "# from tensorflow.keras.preprocessing.image import ImageDataGenerator, img_to_array, array_to_img\n",
        "# from collections import defaultdict\n",
        "\n",
        "# # ========== CẤU HÌNH ==========\n",
        "# input_dir = \"/content/drive/MyDrive/DATASET_VSL/Frames_2_no_heic\"\n",
        "# processed_dir = \"/content/processed_1080\"            # Resize chuẩn 1080x1080\n",
        "# augmented_dir = \"/content/augmented_data\"            # Sau khi tăng cường\n",
        "# output_csv = \"/content/hand_keypoints_dataset.csv\"   # File chứa keypoints\n",
        "\n",
        "# resize_size = (128, 128)\n",
        "# aug_image_size = (128, 128)\n",
        "# target_count = 400\n",
        "# min_detection_conf = 0.7"
      ],
      "metadata": {
        "id": "boDVtfvoOP5X"
      },
      "execution_count": null,
      "outputs": []
    },
    {
      "cell_type": "code",
      "source": [
        "# === IMPORTS ===\n",
        "import os\n",
        "import numpy as np\n",
        "from PIL import Image\n",
        "from tqdm import tqdm\n",
        "from tensorflow.keras.preprocessing.image import (\n",
        "    img_to_array, array_to_img, apply_affine_transform\n",
        ")\n",
        "\n",
        "# === CẤU HÌNH ===\n",
        "processed_dir = \"/content/drive/MyDrive/DATASET_VSL/600_resize\"   # thư mục gốc\n",
        "output_dir    = \"/content/drive/MyDrive/DATASET_VSL/augmented_600_resize\"\n",
        "image_size    = (128, 128)\n",
        "\n",
        "AUGMENTATIONS = [\n",
        "    (\"rotate_15\",       lambda img: apply_affine_transform(img, theta=15)),\n",
        "    (\"rotate_-15\",      lambda img: apply_affine_transform(img, theta=-15)),\n",
        "    # (\"flip\",          lambda img: np.flip(img, axis=1)),\n",
        "    (\"brightness_down\", lambda img: np.clip(img * 0.7, 0, 255).astype(np.uint8)),\n",
        "    (\"brightness_up\",   lambda img: np.clip(img * 1.3, 0, 255).astype(np.uint8)),\n",
        "]\n",
        "NUM_AUGS_PER_IMAGE = len(AUGMENTATIONS)\n",
        "\n",
        "valid_exts = {\".jpg\", \".jpeg\", \".png\", \".bmp\", \".webp\"}\n",
        "os.makedirs(output_dir, exist_ok=True)\n",
        "\n",
        "def save_aug(img_array, name, dst_dir):\n",
        "    img = array_to_img(img_array)\n",
        "    img.save(os.path.join(dst_dir, name))\n",
        "\n",
        "# === THỐNG KÊ ===\n",
        "stats = {}\n",
        "\n",
        "# === Duyệt từng lớp (A, B, C, …) ở mức 1 ===\n",
        "classes = [d for d in sorted(os.listdir(processed_dir))\n",
        "           if d.isalpha() and os.path.isdir(os.path.join(processed_dir, d))]\n",
        "\n",
        "if not classes:\n",
        "    print(\"⚠️ Không tìm thấy thư mục lớp (A,B,C,...) trong:\", processed_dir)\n",
        "\n",
        "for class_name in classes:\n",
        "    class_dir = os.path.join(processed_dir, class_name)\n",
        "    out_dir   = os.path.join(output_dir, class_name)\n",
        "    os.makedirs(out_dir, exist_ok=True)\n",
        "\n",
        "    # Gom tất cả ảnh trong lớp (kể cả nằm trong thư mục con)\n",
        "    img_paths = []\n",
        "    for r, _, files in os.walk(class_dir):\n",
        "        for f in files:\n",
        "            if os.path.splitext(f)[1].lower() in valid_exts:\n",
        "                img_paths.append(os.path.join(r, f))\n",
        "\n",
        "    if not img_paths:\n",
        "        print(f\" {class_name}: Không có ảnh hợp lệ.\")\n",
        "        stats[class_name] = {\"in\": 0, \"out\": 0}\n",
        "        continue\n",
        "\n",
        "    total_in = 0\n",
        "    total_out = 0\n",
        "\n",
        "    print(f\"\\n=== Lớp {class_name} — {len(img_paths)} ảnh gốc ===\")\n",
        "    for path in tqdm(img_paths, desc=f\"Augment {class_name}\", unit=\"img\"):\n",
        "        try:\n",
        "            img = Image.open(path).convert(\"RGB\").resize(image_size)\n",
        "            base = img_to_array(img)\n",
        "\n",
        "            # Lưu ảnh gốc\n",
        "            fname = os.path.basename(path)\n",
        "            save_aug(base, fname, out_dir)\n",
        "            total_in  += 1\n",
        "            total_out += 1\n",
        "\n",
        "            # Lưu các bản tăng cường\n",
        "            for tag, aug_fn in AUGMENTATIONS:\n",
        "                aug = aug_fn(base)\n",
        "                save_aug(aug, f\"{tag}_{fname}\", out_dir)\n",
        "                total_out += 1\n",
        "\n",
        "        except Exception as e:\n",
        "            print(f\"  [BỎ QUA] {path}: {e}\")\n",
        "\n",
        "    stats[class_name] = {\"in\": total_in, \"out\": total_out}\n",
        "    print(f\"[{class_name}] Ảnh gốc: {total_in} | Mỗi ảnh +{NUM_AUGS_PER_IMAGE} augment → Tổng: {total_out}\")\n",
        "\n",
        "# === TỔNG KẾT ===\n",
        "grand_in  = sum(v[\"in\"]  for v in stats.values())\n",
        "grand_out = sum(v[\"out\"] for v in stats.values())\n",
        "\n",
        "print(\"\\n===== BÁO CÁO TỔNG =====\")\n",
        "for k in sorted(stats.keys()):\n",
        "    print(f\"- {k}: in={stats[k]['in']}, out={stats[k]['out']}\")\n",
        "print(f\"\\nTỔNG CỘNG: Ảnh gốc={grand_in} | Sau augment={grand_out} (mỗi ảnh gốc + {NUM_AUGS_PER_IMAGE} augment)\")\n",
        "\n",
        "print(\"\\n Hoàn tất! Ảnh đã lưu ở:\", output_dir)\n"
      ],
      "metadata": {
        "colab": {
          "base_uri": "https://localhost:8080/"
        },
        "id": "MXwopwKGgdPF",
        "outputId": "cac154db-bc78-4ea7-db9b-8ee5ebcb1d00"
      },
      "execution_count": null,
      "outputs": [
        {
          "output_type": "stream",
          "name": "stdout",
          "text": [
            "\n",
            "=== Lớp A — 599 ảnh gốc ===\n"
          ]
        },
        {
          "output_type": "stream",
          "name": "stderr",
          "text": [
            "Augment A: 100%|██████████| 599/599 [00:55<00:00, 10.84img/s]\n"
          ]
        },
        {
          "output_type": "stream",
          "name": "stdout",
          "text": [
            "[A] Ảnh gốc: 599 | Mỗi ảnh +4 augment → Tổng: 2995\n",
            "\n",
            "=== Lớp B — 600 ảnh gốc ===\n"
          ]
        },
        {
          "output_type": "stream",
          "name": "stderr",
          "text": [
            "Augment B: 100%|██████████| 600/600 [01:01<00:00,  9.68img/s]\n"
          ]
        },
        {
          "output_type": "stream",
          "name": "stdout",
          "text": [
            "[B] Ảnh gốc: 600 | Mỗi ảnh +4 augment → Tổng: 3000\n",
            "\n",
            "=== Lớp C — 600 ảnh gốc ===\n"
          ]
        },
        {
          "output_type": "stream",
          "name": "stderr",
          "text": [
            "Augment C: 100%|██████████| 600/600 [00:58<00:00, 10.31img/s]\n"
          ]
        },
        {
          "output_type": "stream",
          "name": "stdout",
          "text": [
            "[C] Ảnh gốc: 600 | Mỗi ảnh +4 augment → Tổng: 3000\n",
            "\n",
            "=== Lớp D — 558 ảnh gốc ===\n"
          ]
        },
        {
          "output_type": "stream",
          "name": "stderr",
          "text": [
            "Augment D: 100%|██████████| 558/558 [00:51<00:00, 10.78img/s]\n"
          ]
        },
        {
          "output_type": "stream",
          "name": "stdout",
          "text": [
            "[D] Ảnh gốc: 558 | Mỗi ảnh +4 augment → Tổng: 2790\n",
            "\n",
            "=== Lớp E — 600 ảnh gốc ===\n"
          ]
        },
        {
          "output_type": "stream",
          "name": "stderr",
          "text": [
            "Augment E: 100%|██████████| 600/600 [00:55<00:00, 10.87img/s]\n"
          ]
        },
        {
          "output_type": "stream",
          "name": "stdout",
          "text": [
            "[E] Ảnh gốc: 600 | Mỗi ảnh +4 augment → Tổng: 3000\n",
            "\n",
            "=== Lớp G — 600 ảnh gốc ===\n"
          ]
        },
        {
          "output_type": "stream",
          "name": "stderr",
          "text": [
            "Augment G: 100%|██████████| 600/600 [00:53<00:00, 11.28img/s]\n"
          ]
        },
        {
          "output_type": "stream",
          "name": "stdout",
          "text": [
            "[G] Ảnh gốc: 600 | Mỗi ảnh +4 augment → Tổng: 3000\n",
            "\n",
            "=== Lớp H — 600 ảnh gốc ===\n"
          ]
        },
        {
          "output_type": "stream",
          "name": "stderr",
          "text": [
            "Augment H: 100%|██████████| 600/600 [00:54<00:00, 11.08img/s]\n"
          ]
        },
        {
          "output_type": "stream",
          "name": "stdout",
          "text": [
            "[H] Ảnh gốc: 600 | Mỗi ảnh +4 augment → Tổng: 3000\n",
            "\n",
            "=== Lớp I — 600 ảnh gốc ===\n"
          ]
        },
        {
          "output_type": "stream",
          "name": "stderr",
          "text": [
            "Augment I: 100%|██████████| 600/600 [00:54<00:00, 11.09img/s]\n"
          ]
        },
        {
          "output_type": "stream",
          "name": "stdout",
          "text": [
            "[I] Ảnh gốc: 600 | Mỗi ảnh +4 augment → Tổng: 3000\n",
            "\n",
            "=== Lớp K — 589 ảnh gốc ===\n"
          ]
        },
        {
          "output_type": "stream",
          "name": "stderr",
          "text": [
            "Augment K: 100%|██████████| 589/589 [00:53<00:00, 10.95img/s]\n"
          ]
        },
        {
          "output_type": "stream",
          "name": "stdout",
          "text": [
            "[K] Ảnh gốc: 589 | Mỗi ảnh +4 augment → Tổng: 2945\n",
            "\n",
            "=== Lớp L — 600 ảnh gốc ===\n"
          ]
        },
        {
          "output_type": "stream",
          "name": "stderr",
          "text": [
            "Augment L: 100%|██████████| 600/600 [00:54<00:00, 11.08img/s]\n"
          ]
        },
        {
          "output_type": "stream",
          "name": "stdout",
          "text": [
            "[L] Ảnh gốc: 600 | Mỗi ảnh +4 augment → Tổng: 3000\n",
            "\n",
            "=== Lớp M — 600 ảnh gốc ===\n"
          ]
        },
        {
          "output_type": "stream",
          "name": "stderr",
          "text": [
            "Augment M: 100%|██████████| 600/600 [00:56<00:00, 10.57img/s]\n"
          ]
        },
        {
          "output_type": "stream",
          "name": "stdout",
          "text": [
            "[M] Ảnh gốc: 600 | Mỗi ảnh +4 augment → Tổng: 3000\n",
            "\n",
            "=== Lớp N — 600 ảnh gốc ===\n"
          ]
        },
        {
          "output_type": "stream",
          "name": "stderr",
          "text": [
            "Augment N: 100%|██████████| 600/600 [00:58<00:00, 10.34img/s]\n"
          ]
        },
        {
          "output_type": "stream",
          "name": "stdout",
          "text": [
            "[N] Ảnh gốc: 600 | Mỗi ảnh +4 augment → Tổng: 3000\n",
            "\n",
            "=== Lớp O — 600 ảnh gốc ===\n"
          ]
        },
        {
          "output_type": "stream",
          "name": "stderr",
          "text": [
            "Augment O: 100%|██████████| 600/600 [00:57<00:00, 10.35img/s]\n"
          ]
        },
        {
          "output_type": "stream",
          "name": "stdout",
          "text": [
            "[O] Ảnh gốc: 600 | Mỗi ảnh +4 augment → Tổng: 3000\n",
            "\n",
            "=== Lớp P — 600 ảnh gốc ===\n"
          ]
        },
        {
          "output_type": "stream",
          "name": "stderr",
          "text": [
            "Augment P: 100%|██████████| 600/600 [00:59<00:00, 10.03img/s]\n"
          ]
        },
        {
          "output_type": "stream",
          "name": "stdout",
          "text": [
            "[P] Ảnh gốc: 600 | Mỗi ảnh +4 augment → Tổng: 3000\n",
            "\n",
            "=== Lớp Q — 600 ảnh gốc ===\n"
          ]
        },
        {
          "output_type": "stream",
          "name": "stderr",
          "text": [
            "Augment Q: 100%|██████████| 600/600 [00:58<00:00, 10.24img/s]\n"
          ]
        },
        {
          "output_type": "stream",
          "name": "stdout",
          "text": [
            "[Q] Ảnh gốc: 600 | Mỗi ảnh +4 augment → Tổng: 3000\n",
            "\n",
            "=== Lớp R — 591 ảnh gốc ===\n"
          ]
        },
        {
          "output_type": "stream",
          "name": "stderr",
          "text": [
            "Augment R: 100%|██████████| 591/591 [00:59<00:00,  9.86img/s]\n"
          ]
        },
        {
          "output_type": "stream",
          "name": "stdout",
          "text": [
            "[R] Ảnh gốc: 591 | Mỗi ảnh +4 augment → Tổng: 2955\n",
            "\n",
            "=== Lớp S — 600 ảnh gốc ===\n"
          ]
        },
        {
          "output_type": "stream",
          "name": "stderr",
          "text": [
            "Augment S: 100%|██████████| 600/600 [00:56<00:00, 10.58img/s]\n"
          ]
        },
        {
          "output_type": "stream",
          "name": "stdout",
          "text": [
            "[S] Ảnh gốc: 600 | Mỗi ảnh +4 augment → Tổng: 3000\n",
            "\n",
            "=== Lớp T — 595 ảnh gốc ===\n"
          ]
        },
        {
          "output_type": "stream",
          "name": "stderr",
          "text": [
            "Augment T: 100%|██████████| 595/595 [00:54<00:00, 10.91img/s]\n"
          ]
        },
        {
          "output_type": "stream",
          "name": "stdout",
          "text": [
            "[T] Ảnh gốc: 595 | Mỗi ảnh +4 augment → Tổng: 2975\n",
            "\n",
            "=== Lớp U — 600 ảnh gốc ===\n"
          ]
        },
        {
          "output_type": "stream",
          "name": "stderr",
          "text": [
            "Augment U: 100%|██████████| 600/600 [00:55<00:00, 10.78img/s]\n"
          ]
        },
        {
          "output_type": "stream",
          "name": "stdout",
          "text": [
            "[U] Ảnh gốc: 600 | Mỗi ảnh +4 augment → Tổng: 3000\n",
            "\n",
            "=== Lớp V — 600 ảnh gốc ===\n"
          ]
        },
        {
          "output_type": "stream",
          "name": "stderr",
          "text": [
            "Augment V: 100%|██████████| 600/600 [00:56<00:00, 10.56img/s]\n"
          ]
        },
        {
          "output_type": "stream",
          "name": "stdout",
          "text": [
            "[V] Ảnh gốc: 600 | Mỗi ảnh +4 augment → Tổng: 3000\n",
            "\n",
            "=== Lớp X — 600 ảnh gốc ===\n"
          ]
        },
        {
          "output_type": "stream",
          "name": "stderr",
          "text": [
            "Augment X: 100%|██████████| 600/600 [00:56<00:00, 10.57img/s]\n"
          ]
        },
        {
          "output_type": "stream",
          "name": "stdout",
          "text": [
            "[X] Ảnh gốc: 600 | Mỗi ảnh +4 augment → Tổng: 3000\n",
            "\n",
            "=== Lớp Y — 600 ảnh gốc ===\n"
          ]
        },
        {
          "output_type": "stream",
          "name": "stderr",
          "text": [
            "Augment Y: 100%|██████████| 600/600 [00:56<00:00, 10.65img/s]\n"
          ]
        },
        {
          "output_type": "stream",
          "name": "stdout",
          "text": [
            "[Y] Ảnh gốc: 600 | Mỗi ảnh +4 augment → Tổng: 3000\n",
            "\n",
            "=== Lớp Đ — 600 ảnh gốc ===\n"
          ]
        },
        {
          "output_type": "stream",
          "name": "stderr",
          "text": [
            "Augment Đ: 100%|██████████| 600/600 [00:55<00:00, 10.84img/s]"
          ]
        },
        {
          "output_type": "stream",
          "name": "stdout",
          "text": [
            "[Đ] Ảnh gốc: 600 | Mỗi ảnh +4 augment → Tổng: 3000\n",
            "\n",
            "===== BÁO CÁO TỔNG =====\n",
            "- A: in=599, out=2995\n",
            "- B: in=600, out=3000\n",
            "- C: in=600, out=3000\n",
            "- D: in=558, out=2790\n",
            "- E: in=600, out=3000\n",
            "- G: in=600, out=3000\n",
            "- H: in=600, out=3000\n",
            "- I: in=600, out=3000\n",
            "- K: in=589, out=2945\n",
            "- L: in=600, out=3000\n",
            "- M: in=600, out=3000\n",
            "- N: in=600, out=3000\n",
            "- O: in=600, out=3000\n",
            "- P: in=600, out=3000\n",
            "- Q: in=600, out=3000\n",
            "- R: in=591, out=2955\n",
            "- S: in=600, out=3000\n",
            "- T: in=595, out=2975\n",
            "- U: in=600, out=3000\n",
            "- V: in=600, out=3000\n",
            "- X: in=600, out=3000\n",
            "- Y: in=600, out=3000\n",
            "- Đ: in=600, out=3000\n",
            "\n",
            "TỔNG CỘNG: Ảnh gốc=13732 | Sau augment=68660 (mỗi ảnh gốc + 4 augment)\n",
            "\n",
            " Hoàn tất! Ảnh đã lưu ở: /content/drive/MyDrive/DATASET_VSL/augmented_600_resize\n"
          ]
        },
        {
          "output_type": "stream",
          "name": "stderr",
          "text": [
            "\n"
          ]
        }
      ]
    },
    {
      "cell_type": "code",
      "source": [
        "import os, csv\n",
        "from collections import defaultdict\n",
        "from tqdm import tqdm\n",
        "import cv2\n",
        "import mediapipe as mp\n",
        "\n",
        "# === CẤU HÌNH ===\n",
        "data_dir   = \"/content/drive/MyDrive/DATASET_VSL/augmented_600_resize\"  # hoặc set = output_dir bạn đã augment\n",
        "output_csv = \"/content/hand_keypoints_dataset_new.csv\"\n",
        "valid_exts = {\".jpg\", \".jpeg\", \".png\", \".bmp\", \".webp\"}\n",
        "\n",
        "# === THỐNG KÊ ===\n",
        "valid_count = 0\n",
        "invalid_count = 0\n",
        "invalid_per_class = defaultdict(int)\n",
        "\n",
        "# === HÀM LIỆT KÊ ẢNH (có sort để tái lập) ===\n",
        "def list_images(folder):\n",
        "    return sorted(\n",
        "        [f for f in os.listdir(folder)\n",
        "         if os.path.splitext(f)[1].lower() in valid_exts]\n",
        "    )\n",
        "\n",
        "# === XỬ LÝ ===\n",
        "mp_hands = mp.solutions.hands\n",
        "with mp_hands.Hands(static_image_mode=True,\n",
        "                    max_num_hands=1,\n",
        "                    min_detection_confidence=0.7) as hands, \\\n",
        "     open(output_csv, mode='w', newline='') as f:\n",
        "\n",
        "    writer = csv.writer(f)\n",
        "    # Header: label, x0,y0,z0,...,x20,y20,z20\n",
        "    header = ['label'] + [f'{c}{i}' for i in range(21) for c in ['x','y','z']]\n",
        "    writer.writerow(header)\n",
        "\n",
        "    # Duyệt từng lớp\n",
        "    for label in sorted(os.listdir(data_dir)):\n",
        "        label_path = os.path.join(data_dir, label)\n",
        "        if not os.path.isdir(label_path):\n",
        "            continue\n",
        "\n",
        "        img_files = list_images(label_path)\n",
        "        if not img_files:\n",
        "            continue\n",
        "\n",
        "        print(f\"Đang xử lý lớp {label} ({len(img_files)} ảnh)...\")\n",
        "        for img_name in tqdm(img_files, desc=f\"Trích {label}\", unit=\"img\"):\n",
        "            img_path = os.path.join(label_path, img_name)\n",
        "            image = cv2.imread(img_path, cv2.IMREAD_COLOR)\n",
        "            if image is None:\n",
        "                invalid_count += 1\n",
        "                invalid_per_class[label] += 1\n",
        "                continue\n",
        "\n",
        "            # BGR -> RGB\n",
        "            rgb = cv2.cvtColor(image, cv2.COLOR_BGR2RGB)\n",
        "            results = hands.process(rgb)\n",
        "\n",
        "            if results.multi_hand_landmarks:\n",
        "                lm = results.multi_hand_landmarks[0]\n",
        "                row = [label] + [v for p in lm.landmark for v in (p.x, p.y, p.z)]\n",
        "                writer.writerow(row)\n",
        "                valid_count += 1\n",
        "            else:\n",
        "                invalid_count += 1\n",
        "                invalid_per_class[label] += 1\n",
        "\n",
        "# === BÁO CÁO ===\n",
        "print(f\"\\nTrích xuất xong! Ảnh hợp lệ: {valid_count:,} | Bị bỏ qua: {invalid_count:,}\")\n",
        "if invalid_per_class:\n",
        "    print(\"Số ảnh bị bỏ qua theo lớp:\")\n",
        "    for k in sorted(invalid_per_class.keys()):\n",
        "        print(f\" - {k}: {invalid_per_class[k]}\")\n",
        "print(\"CSV đã lưu tại:\", output_csv)\n"
      ],
      "metadata": {
        "colab": {
          "base_uri": "https://localhost:8080/"
        },
        "id": "LAdMWSSqoL4B",
        "outputId": "e7923401-ef2f-4d5a-cf43-03267238abf8"
      },
      "execution_count": null,
      "outputs": [
        {
          "output_type": "stream",
          "name": "stdout",
          "text": [
            "Đang xử lý lớp A (2995 ảnh)...\n"
          ]
        },
        {
          "output_type": "stream",
          "name": "stderr",
          "text": [
            "Trích A: 100%|██████████| 2995/2995 [03:00<00:00, 16.62img/s]\n"
          ]
        },
        {
          "output_type": "stream",
          "name": "stdout",
          "text": [
            "Đang xử lý lớp B (3000 ảnh)...\n"
          ]
        },
        {
          "output_type": "stream",
          "name": "stderr",
          "text": [
            "Trích B: 100%|██████████| 3000/3000 [03:01<00:00, 16.53img/s]\n"
          ]
        },
        {
          "output_type": "stream",
          "name": "stdout",
          "text": [
            "Đang xử lý lớp C (3000 ảnh)...\n"
          ]
        },
        {
          "output_type": "stream",
          "name": "stderr",
          "text": [
            "Trích C: 100%|██████████| 3000/3000 [02:44<00:00, 18.20img/s]\n"
          ]
        },
        {
          "output_type": "stream",
          "name": "stdout",
          "text": [
            "Đang xử lý lớp D (2790 ảnh)...\n"
          ]
        },
        {
          "output_type": "stream",
          "name": "stderr",
          "text": [
            "Trích D: 100%|██████████| 2790/2790 [02:51<00:00, 16.23img/s]\n"
          ]
        },
        {
          "output_type": "stream",
          "name": "stdout",
          "text": [
            "Đang xử lý lớp E (3000 ảnh)...\n"
          ]
        },
        {
          "output_type": "stream",
          "name": "stderr",
          "text": [
            "Trích E: 100%|██████████| 3000/3000 [03:01<00:00, 16.51img/s]\n"
          ]
        },
        {
          "output_type": "stream",
          "name": "stdout",
          "text": [
            "Đang xử lý lớp G (3000 ảnh)...\n"
          ]
        },
        {
          "output_type": "stream",
          "name": "stderr",
          "text": [
            "Trích G: 100%|██████████| 3000/3000 [03:05<00:00, 16.18img/s]\n"
          ]
        },
        {
          "output_type": "stream",
          "name": "stdout",
          "text": [
            "Đang xử lý lớp H (3000 ảnh)...\n"
          ]
        },
        {
          "output_type": "stream",
          "name": "stderr",
          "text": [
            "Trích H: 100%|██████████| 3000/3000 [03:06<00:00, 16.09img/s]\n"
          ]
        },
        {
          "output_type": "stream",
          "name": "stdout",
          "text": [
            "Đang xử lý lớp I (3000 ảnh)...\n"
          ]
        },
        {
          "output_type": "stream",
          "name": "stderr",
          "text": [
            "Trích I: 100%|██████████| 3000/3000 [02:59<00:00, 16.69img/s]\n"
          ]
        },
        {
          "output_type": "stream",
          "name": "stdout",
          "text": [
            "Đang xử lý lớp K (2945 ảnh)...\n"
          ]
        },
        {
          "output_type": "stream",
          "name": "stderr",
          "text": [
            "Trích K: 100%|██████████| 2945/2945 [03:12<00:00, 15.32img/s]\n"
          ]
        },
        {
          "output_type": "stream",
          "name": "stdout",
          "text": [
            "Đang xử lý lớp L (3000 ảnh)...\n"
          ]
        },
        {
          "output_type": "stream",
          "name": "stderr",
          "text": [
            "Trích L: 100%|██████████| 3000/3000 [03:03<00:00, 16.32img/s]\n"
          ]
        },
        {
          "output_type": "stream",
          "name": "stdout",
          "text": [
            "Đang xử lý lớp M (3000 ảnh)...\n"
          ]
        },
        {
          "output_type": "stream",
          "name": "stderr",
          "text": [
            "Trích M: 100%|██████████| 3000/3000 [02:47<00:00, 17.91img/s]\n"
          ]
        },
        {
          "output_type": "stream",
          "name": "stdout",
          "text": [
            "Đang xử lý lớp N (3000 ảnh)...\n"
          ]
        },
        {
          "output_type": "stream",
          "name": "stderr",
          "text": [
            "Trích N: 100%|██████████| 3000/3000 [02:59<00:00, 16.68img/s]\n"
          ]
        },
        {
          "output_type": "stream",
          "name": "stdout",
          "text": [
            "Đang xử lý lớp O (3000 ảnh)...\n"
          ]
        },
        {
          "output_type": "stream",
          "name": "stderr",
          "text": [
            "Trích O: 100%|██████████| 3000/3000 [03:18<00:00, 15.12img/s]\n"
          ]
        },
        {
          "output_type": "stream",
          "name": "stdout",
          "text": [
            "Đang xử lý lớp P (3000 ảnh)...\n"
          ]
        },
        {
          "output_type": "stream",
          "name": "stderr",
          "text": [
            "Trích P: 100%|██████████| 3000/3000 [03:11<00:00, 15.67img/s]\n"
          ]
        },
        {
          "output_type": "stream",
          "name": "stdout",
          "text": [
            "Đang xử lý lớp Q (3000 ảnh)...\n"
          ]
        },
        {
          "output_type": "stream",
          "name": "stderr",
          "text": [
            "Trích Q: 100%|██████████| 3000/3000 [02:54<00:00, 17.17img/s]\n"
          ]
        },
        {
          "output_type": "stream",
          "name": "stdout",
          "text": [
            "Đang xử lý lớp R (2955 ảnh)...\n"
          ]
        },
        {
          "output_type": "stream",
          "name": "stderr",
          "text": [
            "Trích R: 100%|██████████| 2955/2955 [03:07<00:00, 15.73img/s]\n"
          ]
        },
        {
          "output_type": "stream",
          "name": "stdout",
          "text": [
            "Đang xử lý lớp S (3000 ảnh)...\n"
          ]
        },
        {
          "output_type": "stream",
          "name": "stderr",
          "text": [
            "Trích S: 100%|██████████| 3000/3000 [02:51<00:00, 17.46img/s]\n"
          ]
        },
        {
          "output_type": "stream",
          "name": "stdout",
          "text": [
            "Đang xử lý lớp T (2975 ảnh)...\n"
          ]
        },
        {
          "output_type": "stream",
          "name": "stderr",
          "text": [
            "Trích T: 100%|██████████| 2975/2975 [03:00<00:00, 16.45img/s]\n"
          ]
        },
        {
          "output_type": "stream",
          "name": "stdout",
          "text": [
            "Đang xử lý lớp U (3000 ảnh)...\n"
          ]
        },
        {
          "output_type": "stream",
          "name": "stderr",
          "text": [
            "Trích U: 100%|██████████| 3000/3000 [03:03<00:00, 16.32img/s]\n"
          ]
        },
        {
          "output_type": "stream",
          "name": "stdout",
          "text": [
            "Đang xử lý lớp V (3000 ảnh)...\n"
          ]
        },
        {
          "output_type": "stream",
          "name": "stderr",
          "text": [
            "Trích V: 100%|██████████| 3000/3000 [03:13<00:00, 15.49img/s]\n"
          ]
        },
        {
          "output_type": "stream",
          "name": "stdout",
          "text": [
            "Đang xử lý lớp X (3000 ảnh)...\n"
          ]
        },
        {
          "output_type": "stream",
          "name": "stderr",
          "text": [
            "Trích X: 100%|██████████| 3000/3000 [03:15<00:00, 15.36img/s]\n"
          ]
        },
        {
          "output_type": "stream",
          "name": "stdout",
          "text": [
            "Đang xử lý lớp Y (3000 ảnh)...\n"
          ]
        },
        {
          "output_type": "stream",
          "name": "stderr",
          "text": [
            "Trích Y: 100%|██████████| 3000/3000 [03:07<00:00, 15.98img/s]\n"
          ]
        },
        {
          "output_type": "stream",
          "name": "stdout",
          "text": [
            "Đang xử lý lớp Đ (3000 ảnh)...\n"
          ]
        },
        {
          "output_type": "stream",
          "name": "stderr",
          "text": [
            "Trích Đ: 100%|██████████| 3000/3000 [03:10<00:00, 15.72img/s]"
          ]
        },
        {
          "output_type": "stream",
          "name": "stdout",
          "text": [
            "\n",
            "Trích xuất xong! Ảnh hợp lệ: 37,023 | Bị bỏ qua: 31,637\n",
            "Số ảnh bị bỏ qua theo lớp:\n",
            " - A: 1615\n",
            " - B: 1199\n",
            " - C: 2056\n",
            " - D: 1221\n",
            " - E: 1191\n",
            " - G: 1193\n",
            " - H: 1144\n",
            " - I: 1185\n",
            " - K: 1021\n",
            " - L: 1188\n",
            " - M: 1855\n",
            " - N: 1965\n",
            " - O: 1434\n",
            " - P: 1469\n",
            " - Q: 1750\n",
            " - R: 1118\n",
            " - S: 1854\n",
            " - T: 1184\n",
            " - U: 1200\n",
            " - V: 1200\n",
            " - X: 1168\n",
            " - Y: 1200\n",
            " - Đ: 1227\n",
            "CSV đã lưu tại: /content/hand_keypoints_dataset_new.csv\n"
          ]
        },
        {
          "output_type": "stream",
          "name": "stderr",
          "text": [
            "\n"
          ]
        }
      ]
    }
  ]
}